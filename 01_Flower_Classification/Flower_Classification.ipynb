{
 "cells": [
  {
   "cell_type": "code",
   "execution_count": 1,
   "id": "72325be3",
   "metadata": {},
   "outputs": [],
   "source": [
    "import os\n",
    "import matplotlib.pyplot as plt\n",
    "%matplotlib inline\n",
    "import numpy as np\n",
    "import torch\n",
    "from torch import nn\n",
    "import torch.optim as optim\n",
    "import torchvision\n",
    "from torchvision import transforms, models, datasets\n",
    "import imageio\n",
    "import time\n",
    "import warnings\n",
    "warnings.filterwarnings(\"ignore\")\n",
    "import random\n",
    "import sys\n",
    "import copy\n",
    "import json\n",
    "from PIL import Image"
   ]
  },
  {
   "cell_type": "markdown",
   "id": "2a8298b3",
   "metadata": {},
   "source": [
    "#### 数据读取与预处理"
   ]
  },
  {
   "cell_type": "code",
   "execution_count": 2,
   "id": "4d72d853",
   "metadata": {},
   "outputs": [],
   "source": [
    "data_dir = \"/data2/cuimengjun/01DataSet/flower_data\"\n",
    "train_dir = data_dir + \"/train\"\n",
    "valid_dir = data_dir + \"/valid\""
   ]
  },
  {
   "cell_type": "markdown",
   "id": "d993de83",
   "metadata": {},
   "source": [
    "#### 制作好数据源\n",
    "- data_transforms中指定了所有图像预处理操作(实际中可能仅需要使用部分)\n",
    "- ImageFolder假设所有的文件按文件夹保存好, 每个文件夹下面存储同一类别图片, 文件夹的名字为类别名字"
   ]
  },
  {
   "cell_type": "code",
   "execution_count": 5,
   "id": "11ad648e",
   "metadata": {},
   "outputs": [],
   "source": [
    "data_transforms = {\n",
    "    \"train\":\n",
    "        transforms.Compose([\n",
    "            transforms.Resize([96, 96]),\n",
    "            transforms.RandomRotation(45), # -45~45之间随机旋转\n",
    "            transforms.CenterCrop(64), # 从重心开始裁剪\n",
    "            transforms.RandomHorizontalFlip(p=0.5), # 随机水平翻转\n",
    "            transforms.RandomVerticalFlip(p=0.5), # 随机垂直翻转\n",
    "            transforms.ColorJitter(brightness=0.2, contrast=0.1, saturation=0.1, hue=0.1), # 亮度/对比度/饱和度/色相\n",
    "            transforms.RandomGrayscale(p=0.025), # 一定概率转成灰度率\n",
    "            transforms.ToTensor(),\n",
    "            transforms.Normalize([0.485, 0.456, 0.406], [0.229, 0.224, 0.225]) #均值, 标准差\n",
    "        ]),\n",
    "    \"valid\":\n",
    "        transforms.Compose([\n",
    "            transforms.Resize([64, 64]),\n",
    "            transforms.ToTensor(),\n",
    "             transforms.Normalize([0.485, 0.456, 0.406], [0.229, 0.224, 0.225])\n",
    "        ])\n",
    "}"
   ]
  },
  {
   "cell_type": "code",
   "execution_count": 10,
   "id": "5cb54e2e",
   "metadata": {},
   "outputs": [],
   "source": [
    "batch_size = 128\n",
    "\n",
    "image_datasets = {x: datasets.ImageFolder(os.path.join(data_dir, x), data_transforms[x]) for x in [\"train\", \"valid\"]}\n",
    "dataloaders = {x: torch.utils.data.DataLoader(image_datasets[x], batch_size=batch_size, shuffle=True) for x in [\"train\", \"valid\"]}\n",
    "datasets_sizes = {x: len(image_datasets[x]) for x in [\"train\", \"valid\"]}\n",
    "class_names = image_datasets[\"train\"].classes"
   ]
  },
  {
   "cell_type": "code",
   "execution_count": 8,
   "id": "1ffbc080",
   "metadata": {},
   "outputs": [
    {
     "data": {
      "text/plain": [
       "{'train': Dataset ImageFolder\n",
       "     Number of datapoints: 6552\n",
       "     Root location: /data2/cuimengjun/01DataSet/flower_data/train\n",
       "     StandardTransform\n",
       " Transform: Compose(\n",
       "                Resize(size=[96, 96], interpolation=bilinear)\n",
       "                RandomRotation(degrees=[-45.0, 45.0], interpolation=nearest, expand=False, fill=0)\n",
       "                CenterCrop(size=(64, 64))\n",
       "                RandomHorizontalFlip(p=0.5)\n",
       "                RandomVerticalFlip(p=0.5)\n",
       "                ColorJitter(brightness=[0.8, 1.2], contrast=[0.9, 1.1], saturation=[0.9, 1.1], hue=[-0.1, 0.1])\n",
       "                RandomGrayscale(p=0.025)\n",
       "                ToTensor()\n",
       "                Normalize(mean=[0.485, 0.456, 0.406], std=[0.229, 0.224, 0.225])\n",
       "            ),\n",
       " 'valid': Dataset ImageFolder\n",
       "     Number of datapoints: 818\n",
       "     Root location: /data2/cuimengjun/01DataSet/flower_data/valid\n",
       "     StandardTransform\n",
       " Transform: Compose(\n",
       "                Resize(size=[64, 64], interpolation=bilinear)\n",
       "                ToTensor()\n",
       "                Normalize(mean=[0.485, 0.456, 0.406], std=[0.229, 0.224, 0.225])\n",
       "            )}"
      ]
     },
     "execution_count": 8,
     "metadata": {},
     "output_type": "execute_result"
    }
   ],
   "source": [
    "image_datasets"
   ]
  },
  {
   "cell_type": "code",
   "execution_count": 9,
   "id": "ad9242b9",
   "metadata": {},
   "outputs": [
    {
     "data": {
      "text/plain": [
       "{'train': <torch.utils.data.dataloader.DataLoader at 0x7f00f30e92e0>,\n",
       " 'valid': <torch.utils.data.dataloader.DataLoader at 0x7f00f30c4c40>}"
      ]
     },
     "execution_count": 9,
     "metadata": {},
     "output_type": "execute_result"
    }
   ],
   "source": [
    "dataloaders"
   ]
  },
  {
   "cell_type": "code",
   "execution_count": 11,
   "id": "5b963ac9",
   "metadata": {},
   "outputs": [
    {
     "data": {
      "text/plain": [
       "{'train': 6552, 'valid': 818}"
      ]
     },
     "execution_count": 11,
     "metadata": {},
     "output_type": "execute_result"
    }
   ],
   "source": [
    "datasets_sizes"
   ]
  },
  {
   "cell_type": "markdown",
   "id": "ec83b1e7",
   "metadata": {},
   "source": [
    "#### 读取标签对应的实际名字"
   ]
  },
  {
   "cell_type": "code",
   "execution_count": 12,
   "id": "f1ee0d06",
   "metadata": {},
   "outputs": [],
   "source": [
    "with open(\"./cat_to_name.json\", \"r\") as f:\n",
    "    cat_to_name = json.load(f)"
   ]
  },
  {
   "cell_type": "code",
   "execution_count": 13,
   "id": "0ea7ef83",
   "metadata": {},
   "outputs": [
    {
     "data": {
      "text/plain": [
       "'pink primrose'"
      ]
     },
     "execution_count": 13,
     "metadata": {},
     "output_type": "execute_result"
    }
   ],
   "source": [
    "cat_to_name['1']"
   ]
  },
  {
   "cell_type": "markdown",
   "id": "3c688ef7",
   "metadata": {},
   "source": [
    "#### 加载models中提供的模型, 并且直接用训练好的权重当作初始化参数"
   ]
  },
  {
   "cell_type": "code",
   "execution_count": 14,
   "id": "7ad86ca9",
   "metadata": {},
   "outputs": [],
   "source": [
    "model_name = \"resnet\"\n",
    "feature_extract = True"
   ]
  },
  {
   "cell_type": "code",
   "execution_count": 15,
   "id": "ee7fa5df",
   "metadata": {},
   "outputs": [
    {
     "name": "stdout",
     "output_type": "stream",
     "text": [
      "CUDA is available.  Training on GPU ...\n"
     ]
    }
   ],
   "source": [
    "train_on_gpu = torch.cuda.is_available()\n",
    "\n",
    "if not train_on_gpu:\n",
    "    print(\"CUDA is not available.  Training on CPU ...\")\n",
    "else:\n",
    "    print(\"CUDA is available.  Training on GPU ...\")\n",
    "    \n",
    "device = torch.device(\"cuda:0\" if train_on_gpu else \"cpu\")"
   ]
  },
  {
   "cell_type": "markdown",
   "id": "4675af08",
   "metadata": {},
   "source": [
    "#### 模型参数是否更新"
   ]
  },
  {
   "cell_type": "code",
   "execution_count": 16,
   "id": "6c33a08b",
   "metadata": {},
   "outputs": [],
   "source": [
    "def set_parameter_requires_grad(model, feature_extract):\n",
    "    if feature_extract:\n",
    "        for param in model.parameters():\n",
    "            param.requires_grad = False"
   ]
  },
  {
   "cell_type": "code",
   "execution_count": 17,
   "id": "e2dfcb10",
   "metadata": {},
   "outputs": [
    {
     "data": {
      "text/plain": [
       "ResNet(\n",
       "  (conv1): Conv2d(3, 64, kernel_size=(7, 7), stride=(2, 2), padding=(3, 3), bias=False)\n",
       "  (bn1): BatchNorm2d(64, eps=1e-05, momentum=0.1, affine=True, track_running_stats=True)\n",
       "  (relu): ReLU(inplace=True)\n",
       "  (maxpool): MaxPool2d(kernel_size=3, stride=2, padding=1, dilation=1, ceil_mode=False)\n",
       "  (layer1): Sequential(\n",
       "    (0): BasicBlock(\n",
       "      (conv1): Conv2d(64, 64, kernel_size=(3, 3), stride=(1, 1), padding=(1, 1), bias=False)\n",
       "      (bn1): BatchNorm2d(64, eps=1e-05, momentum=0.1, affine=True, track_running_stats=True)\n",
       "      (relu): ReLU(inplace=True)\n",
       "      (conv2): Conv2d(64, 64, kernel_size=(3, 3), stride=(1, 1), padding=(1, 1), bias=False)\n",
       "      (bn2): BatchNorm2d(64, eps=1e-05, momentum=0.1, affine=True, track_running_stats=True)\n",
       "    )\n",
       "    (1): BasicBlock(\n",
       "      (conv1): Conv2d(64, 64, kernel_size=(3, 3), stride=(1, 1), padding=(1, 1), bias=False)\n",
       "      (bn1): BatchNorm2d(64, eps=1e-05, momentum=0.1, affine=True, track_running_stats=True)\n",
       "      (relu): ReLU(inplace=True)\n",
       "      (conv2): Conv2d(64, 64, kernel_size=(3, 3), stride=(1, 1), padding=(1, 1), bias=False)\n",
       "      (bn2): BatchNorm2d(64, eps=1e-05, momentum=0.1, affine=True, track_running_stats=True)\n",
       "    )\n",
       "  )\n",
       "  (layer2): Sequential(\n",
       "    (0): BasicBlock(\n",
       "      (conv1): Conv2d(64, 128, kernel_size=(3, 3), stride=(2, 2), padding=(1, 1), bias=False)\n",
       "      (bn1): BatchNorm2d(128, eps=1e-05, momentum=0.1, affine=True, track_running_stats=True)\n",
       "      (relu): ReLU(inplace=True)\n",
       "      (conv2): Conv2d(128, 128, kernel_size=(3, 3), stride=(1, 1), padding=(1, 1), bias=False)\n",
       "      (bn2): BatchNorm2d(128, eps=1e-05, momentum=0.1, affine=True, track_running_stats=True)\n",
       "      (downsample): Sequential(\n",
       "        (0): Conv2d(64, 128, kernel_size=(1, 1), stride=(2, 2), bias=False)\n",
       "        (1): BatchNorm2d(128, eps=1e-05, momentum=0.1, affine=True, track_running_stats=True)\n",
       "      )\n",
       "    )\n",
       "    (1): BasicBlock(\n",
       "      (conv1): Conv2d(128, 128, kernel_size=(3, 3), stride=(1, 1), padding=(1, 1), bias=False)\n",
       "      (bn1): BatchNorm2d(128, eps=1e-05, momentum=0.1, affine=True, track_running_stats=True)\n",
       "      (relu): ReLU(inplace=True)\n",
       "      (conv2): Conv2d(128, 128, kernel_size=(3, 3), stride=(1, 1), padding=(1, 1), bias=False)\n",
       "      (bn2): BatchNorm2d(128, eps=1e-05, momentum=0.1, affine=True, track_running_stats=True)\n",
       "    )\n",
       "  )\n",
       "  (layer3): Sequential(\n",
       "    (0): BasicBlock(\n",
       "      (conv1): Conv2d(128, 256, kernel_size=(3, 3), stride=(2, 2), padding=(1, 1), bias=False)\n",
       "      (bn1): BatchNorm2d(256, eps=1e-05, momentum=0.1, affine=True, track_running_stats=True)\n",
       "      (relu): ReLU(inplace=True)\n",
       "      (conv2): Conv2d(256, 256, kernel_size=(3, 3), stride=(1, 1), padding=(1, 1), bias=False)\n",
       "      (bn2): BatchNorm2d(256, eps=1e-05, momentum=0.1, affine=True, track_running_stats=True)\n",
       "      (downsample): Sequential(\n",
       "        (0): Conv2d(128, 256, kernel_size=(1, 1), stride=(2, 2), bias=False)\n",
       "        (1): BatchNorm2d(256, eps=1e-05, momentum=0.1, affine=True, track_running_stats=True)\n",
       "      )\n",
       "    )\n",
       "    (1): BasicBlock(\n",
       "      (conv1): Conv2d(256, 256, kernel_size=(3, 3), stride=(1, 1), padding=(1, 1), bias=False)\n",
       "      (bn1): BatchNorm2d(256, eps=1e-05, momentum=0.1, affine=True, track_running_stats=True)\n",
       "      (relu): ReLU(inplace=True)\n",
       "      (conv2): Conv2d(256, 256, kernel_size=(3, 3), stride=(1, 1), padding=(1, 1), bias=False)\n",
       "      (bn2): BatchNorm2d(256, eps=1e-05, momentum=0.1, affine=True, track_running_stats=True)\n",
       "    )\n",
       "  )\n",
       "  (layer4): Sequential(\n",
       "    (0): BasicBlock(\n",
       "      (conv1): Conv2d(256, 512, kernel_size=(3, 3), stride=(2, 2), padding=(1, 1), bias=False)\n",
       "      (bn1): BatchNorm2d(512, eps=1e-05, momentum=0.1, affine=True, track_running_stats=True)\n",
       "      (relu): ReLU(inplace=True)\n",
       "      (conv2): Conv2d(512, 512, kernel_size=(3, 3), stride=(1, 1), padding=(1, 1), bias=False)\n",
       "      (bn2): BatchNorm2d(512, eps=1e-05, momentum=0.1, affine=True, track_running_stats=True)\n",
       "      (downsample): Sequential(\n",
       "        (0): Conv2d(256, 512, kernel_size=(1, 1), stride=(2, 2), bias=False)\n",
       "        (1): BatchNorm2d(512, eps=1e-05, momentum=0.1, affine=True, track_running_stats=True)\n",
       "      )\n",
       "    )\n",
       "    (1): BasicBlock(\n",
       "      (conv1): Conv2d(512, 512, kernel_size=(3, 3), stride=(1, 1), padding=(1, 1), bias=False)\n",
       "      (bn1): BatchNorm2d(512, eps=1e-05, momentum=0.1, affine=True, track_running_stats=True)\n",
       "      (relu): ReLU(inplace=True)\n",
       "      (conv2): Conv2d(512, 512, kernel_size=(3, 3), stride=(1, 1), padding=(1, 1), bias=False)\n",
       "      (bn2): BatchNorm2d(512, eps=1e-05, momentum=0.1, affine=True, track_running_stats=True)\n",
       "    )\n",
       "  )\n",
       "  (avgpool): AdaptiveAvgPool2d(output_size=(1, 1))\n",
       "  (fc): Linear(in_features=512, out_features=1000, bias=True)\n",
       ")"
      ]
     },
     "execution_count": 17,
     "metadata": {},
     "output_type": "execute_result"
    }
   ],
   "source": [
    "model_ft = models.resnet18()\n",
    "model_ft"
   ]
  },
  {
   "cell_type": "markdown",
   "id": "acb6dcd2",
   "metadata": {},
   "source": [
    "#### 将模型输出层改为适配自己任务"
   ]
  },
  {
   "cell_type": "code",
   "execution_count": 18,
   "id": "8f37f562",
   "metadata": {},
   "outputs": [],
   "source": [
    "def initialize_model(model_name, num_classes, feature_extract, use_pretrained=True):\n",
    "    model_ft = models.resnet18(pretrained=use_pretrained)\n",
    "    set_parameter_requires_grad(model_ft, feature_extract)\n",
    "    num_in = model_ft.fc.in_features\n",
    "    model_ft.fc = nn.Linear(num_in, num_classes) # 类别数根据具体任务, 这个函数写的不好\n",
    "    input_size = 64 # 输入大小根据具体任务 暂时写死\n",
    "    \n",
    "    return model_ft, input_size"
   ]
  },
  {
   "cell_type": "markdown",
   "id": "1fe9e1ac",
   "metadata": {},
   "source": [
    "#### 设置哪些层需要训练"
   ]
  },
  {
   "cell_type": "code",
   "execution_count": 34,
   "id": "3dc0db89",
   "metadata": {},
   "outputs": [
    {
     "name": "stdout",
     "output_type": "stream",
     "text": [
      "Prams to learn: \n",
      "\t fc.weight\n",
      "\t fc.bias\n"
     ]
    }
   ],
   "source": [
    "model_ft, input_size = initialize_model(model_name, 102, feature_extract, use_pretrained=True)\n",
    "# GPU or CPU\n",
    "model_ft = model_ft.to(device)\n",
    "# 模型存储\n",
    "filename = \"best.pt\"\n",
    "# 是否训练所有层\n",
    "params_to_update = model_ft.parameters()\n",
    "print(\"Prams to learn: \")\n",
    "if feature_extract:\n",
    "    params_to_update = []\n",
    "    for name, param in model_ft.named_parameters():\n",
    "        if param.requires_grad:\n",
    "            params_to_update.append(param)\n",
    "            print(\"\\t\", name)\n",
    "else:\n",
    "    for name, param in model_ft.named_parameters():\n",
    "        if param.requires_grad:\n",
    "            print(\"\\t\", name)"
   ]
  },
  {
   "cell_type": "code",
   "execution_count": 22,
   "id": "cb6d4f39",
   "metadata": {},
   "outputs": [
    {
     "data": {
      "text/plain": [
       "ResNet(\n",
       "  (conv1): Conv2d(3, 64, kernel_size=(7, 7), stride=(2, 2), padding=(3, 3), bias=False)\n",
       "  (bn1): BatchNorm2d(64, eps=1e-05, momentum=0.1, affine=True, track_running_stats=True)\n",
       "  (relu): ReLU(inplace=True)\n",
       "  (maxpool): MaxPool2d(kernel_size=3, stride=2, padding=1, dilation=1, ceil_mode=False)\n",
       "  (layer1): Sequential(\n",
       "    (0): BasicBlock(\n",
       "      (conv1): Conv2d(64, 64, kernel_size=(3, 3), stride=(1, 1), padding=(1, 1), bias=False)\n",
       "      (bn1): BatchNorm2d(64, eps=1e-05, momentum=0.1, affine=True, track_running_stats=True)\n",
       "      (relu): ReLU(inplace=True)\n",
       "      (conv2): Conv2d(64, 64, kernel_size=(3, 3), stride=(1, 1), padding=(1, 1), bias=False)\n",
       "      (bn2): BatchNorm2d(64, eps=1e-05, momentum=0.1, affine=True, track_running_stats=True)\n",
       "    )\n",
       "    (1): BasicBlock(\n",
       "      (conv1): Conv2d(64, 64, kernel_size=(3, 3), stride=(1, 1), padding=(1, 1), bias=False)\n",
       "      (bn1): BatchNorm2d(64, eps=1e-05, momentum=0.1, affine=True, track_running_stats=True)\n",
       "      (relu): ReLU(inplace=True)\n",
       "      (conv2): Conv2d(64, 64, kernel_size=(3, 3), stride=(1, 1), padding=(1, 1), bias=False)\n",
       "      (bn2): BatchNorm2d(64, eps=1e-05, momentum=0.1, affine=True, track_running_stats=True)\n",
       "    )\n",
       "  )\n",
       "  (layer2): Sequential(\n",
       "    (0): BasicBlock(\n",
       "      (conv1): Conv2d(64, 128, kernel_size=(3, 3), stride=(2, 2), padding=(1, 1), bias=False)\n",
       "      (bn1): BatchNorm2d(128, eps=1e-05, momentum=0.1, affine=True, track_running_stats=True)\n",
       "      (relu): ReLU(inplace=True)\n",
       "      (conv2): Conv2d(128, 128, kernel_size=(3, 3), stride=(1, 1), padding=(1, 1), bias=False)\n",
       "      (bn2): BatchNorm2d(128, eps=1e-05, momentum=0.1, affine=True, track_running_stats=True)\n",
       "      (downsample): Sequential(\n",
       "        (0): Conv2d(64, 128, kernel_size=(1, 1), stride=(2, 2), bias=False)\n",
       "        (1): BatchNorm2d(128, eps=1e-05, momentum=0.1, affine=True, track_running_stats=True)\n",
       "      )\n",
       "    )\n",
       "    (1): BasicBlock(\n",
       "      (conv1): Conv2d(128, 128, kernel_size=(3, 3), stride=(1, 1), padding=(1, 1), bias=False)\n",
       "      (bn1): BatchNorm2d(128, eps=1e-05, momentum=0.1, affine=True, track_running_stats=True)\n",
       "      (relu): ReLU(inplace=True)\n",
       "      (conv2): Conv2d(128, 128, kernel_size=(3, 3), stride=(1, 1), padding=(1, 1), bias=False)\n",
       "      (bn2): BatchNorm2d(128, eps=1e-05, momentum=0.1, affine=True, track_running_stats=True)\n",
       "    )\n",
       "  )\n",
       "  (layer3): Sequential(\n",
       "    (0): BasicBlock(\n",
       "      (conv1): Conv2d(128, 256, kernel_size=(3, 3), stride=(2, 2), padding=(1, 1), bias=False)\n",
       "      (bn1): BatchNorm2d(256, eps=1e-05, momentum=0.1, affine=True, track_running_stats=True)\n",
       "      (relu): ReLU(inplace=True)\n",
       "      (conv2): Conv2d(256, 256, kernel_size=(3, 3), stride=(1, 1), padding=(1, 1), bias=False)\n",
       "      (bn2): BatchNorm2d(256, eps=1e-05, momentum=0.1, affine=True, track_running_stats=True)\n",
       "      (downsample): Sequential(\n",
       "        (0): Conv2d(128, 256, kernel_size=(1, 1), stride=(2, 2), bias=False)\n",
       "        (1): BatchNorm2d(256, eps=1e-05, momentum=0.1, affine=True, track_running_stats=True)\n",
       "      )\n",
       "    )\n",
       "    (1): BasicBlock(\n",
       "      (conv1): Conv2d(256, 256, kernel_size=(3, 3), stride=(1, 1), padding=(1, 1), bias=False)\n",
       "      (bn1): BatchNorm2d(256, eps=1e-05, momentum=0.1, affine=True, track_running_stats=True)\n",
       "      (relu): ReLU(inplace=True)\n",
       "      (conv2): Conv2d(256, 256, kernel_size=(3, 3), stride=(1, 1), padding=(1, 1), bias=False)\n",
       "      (bn2): BatchNorm2d(256, eps=1e-05, momentum=0.1, affine=True, track_running_stats=True)\n",
       "    )\n",
       "  )\n",
       "  (layer4): Sequential(\n",
       "    (0): BasicBlock(\n",
       "      (conv1): Conv2d(256, 512, kernel_size=(3, 3), stride=(2, 2), padding=(1, 1), bias=False)\n",
       "      (bn1): BatchNorm2d(512, eps=1e-05, momentum=0.1, affine=True, track_running_stats=True)\n",
       "      (relu): ReLU(inplace=True)\n",
       "      (conv2): Conv2d(512, 512, kernel_size=(3, 3), stride=(1, 1), padding=(1, 1), bias=False)\n",
       "      (bn2): BatchNorm2d(512, eps=1e-05, momentum=0.1, affine=True, track_running_stats=True)\n",
       "      (downsample): Sequential(\n",
       "        (0): Conv2d(256, 512, kernel_size=(1, 1), stride=(2, 2), bias=False)\n",
       "        (1): BatchNorm2d(512, eps=1e-05, momentum=0.1, affine=True, track_running_stats=True)\n",
       "      )\n",
       "    )\n",
       "    (1): BasicBlock(\n",
       "      (conv1): Conv2d(512, 512, kernel_size=(3, 3), stride=(1, 1), padding=(1, 1), bias=False)\n",
       "      (bn1): BatchNorm2d(512, eps=1e-05, momentum=0.1, affine=True, track_running_stats=True)\n",
       "      (relu): ReLU(inplace=True)\n",
       "      (conv2): Conv2d(512, 512, kernel_size=(3, 3), stride=(1, 1), padding=(1, 1), bias=False)\n",
       "      (bn2): BatchNorm2d(512, eps=1e-05, momentum=0.1, affine=True, track_running_stats=True)\n",
       "    )\n",
       "  )\n",
       "  (avgpool): AdaptiveAvgPool2d(output_size=(1, 1))\n",
       "  (fc): Linear(in_features=512, out_features=102, bias=True)\n",
       ")"
      ]
     },
     "execution_count": 22,
     "metadata": {},
     "output_type": "execute_result"
    }
   ],
   "source": [
    "model_ft"
   ]
  },
  {
   "cell_type": "markdown",
   "id": "32ede7c5",
   "metadata": {},
   "source": [
    "#### 优化器设置"
   ]
  },
  {
   "cell_type": "code",
   "execution_count": 27,
   "id": "9998e819",
   "metadata": {},
   "outputs": [],
   "source": [
    "optimizer_ft = optim.Adam(params_to_update, lr=1e-2)\n",
    "scheduler = optim.lr_scheduler.StepLR(optimizer_ft, step_size=10, gamma=0.8) # lr每10步衰减为原来的80%\n",
    "criterion = nn.CrossEntropyLoss()"
   ]
  },
  {
   "cell_type": "markdown",
   "id": "99847dd5",
   "metadata": {},
   "source": [
    "#### 训练部分"
   ]
  },
  {
   "cell_type": "code",
   "execution_count": 28,
   "id": "a8e523ba",
   "metadata": {},
   "outputs": [],
   "source": [
    "def train_model(model, dataloaders, criterion, optimizer, num_epochs=30, filename=\"best.pt\"):\n",
    "    # 记录时间\n",
    "    since = time.time()\n",
    "    # 记录最好的结果\n",
    "    best_acc = 0\n",
    "    # 模型放在哪里\n",
    "    model.to(device)\n",
    "    # 训练中打印数据\n",
    "    val_acc_history = []\n",
    "    train_acc_history = []\n",
    "    valid_losses = []\n",
    "    train_losses = []\n",
    "    # lr\n",
    "    lrs = [optimizer.param_groups[0]['lr']]\n",
    "    \n",
    "    best_model = copy.deepcopy(model.state_dict())\n",
    "    \n",
    "    for epoch in range(num_epochs):\n",
    "        print(\"Epoch {}/{}\".format(epoch, num_epochs - 1))\n",
    "        print('-' * 10)\n",
    "        \n",
    "        # 训练和验证\n",
    "        for phase in [\"train\", \"valid\"]:\n",
    "            if phase == \"train\":\n",
    "                model.train()\n",
    "            else:\n",
    "                model.eval()\n",
    "                \n",
    "            running_loss = 0.0\n",
    "            running_corrects = 0\n",
    "            \n",
    "            for inputs, labels in dataloaders[phase]:\n",
    "                inputs = inputs.to(device)\n",
    "                labels = labels.to(device)\n",
    "                \n",
    "                optimizer.zero_grad()\n",
    "                outputs = model(inputs)\n",
    "                loss = criterion(outputs, labels)\n",
    "                _, preds = torch.max(outputs, 1)\n",
    "                \n",
    "                # 训练阶段更新参数\n",
    "                if phase == \"train\":\n",
    "                    loss.backward()\n",
    "                    optimizer.step()\n",
    "                \n",
    "                # 计算损失\n",
    "                running_loss += loss.item()  * inputs.size(0) # batch\n",
    "                running_corrects += torch.sum(preds == labels)\n",
    "                \n",
    "            epoch_loss = running_loss / len(dataloaders[phase].dataset)\n",
    "            epoch_acc = running_corrects.double() / len(dataloaders[phase].dataset)\n",
    "                \n",
    "            time_elapsed = time.time()\n",
    "            print('Time elapsed {:.0f}m {:.0f}s'.format(time_elapsed // 60, time_elapsed % 60))\n",
    "            print('{} Loss: {:.4f} Acc: {:.4f}'.format(phase, epoch_loss, epoch_acc))\n",
    "            \n",
    "            # 得到best模型\n",
    "            if phase == \"valid\" and epoch_acc > best_acc:\n",
    "                best_acc = epoch_acc\n",
    "                best_model = copy.deepcopy(model.state_dict())\n",
    "                state = {\n",
    "                    \"state_dict\": model.state_dict(), # 字典 key各层名字 value训练好的权重\n",
    "                    \"best_acc\": best_acc,\n",
    "                    \"optimizer\": optimizer.state_dict(),\n",
    "                }\n",
    "                torch.save(state, filename)\n",
    "                \n",
    "            if phase == \"valid\":\n",
    "                val_acc_history.append(epoch_acc)\n",
    "                valid_losses.append(epoch_loss)\n",
    "            if phase == \"train\":\n",
    "                train_acc_history.append(epoch_acc)\n",
    "                train_losses.append(epoch_loss)\n",
    "            \n",
    "        print('Optimizer learning rate : {:.7f}'.format(optimizer.param_groups[0]['lr']))\n",
    "        lrs.append(optimizer.param_groups[0]['lr'])\n",
    "        print()\n",
    "        scheduler.step()\n",
    "        \n",
    "    time_elapsed = time.time() - since\n",
    "    print('Training complete in {:.0f}m {:.0f}s'.format(time_elapsed // 60, time_elapsed % 60))\n",
    "    print('Best val Acc: {:4f}'.format(best_acc))\n",
    "    \n",
    "    # 训练完后用最好的一次当做模型最终的结果, 等着一会测试\n",
    "    model.load_state_dict(best_model)\n",
    "    return model, val_acc_history, train_acc_history, valid_losses, train_losses, lrs "
   ]
  },
  {
   "cell_type": "markdown",
   "id": "3cb34aa1",
   "metadata": {},
   "source": [
    "#### 训练"
   ]
  },
  {
   "cell_type": "code",
   "execution_count": 29,
   "id": "5316dc7f",
   "metadata": {},
   "outputs": [
    {
     "name": "stdout",
     "output_type": "stream",
     "text": [
      "Epoch 0/19\n",
      "----------\n",
      "Time elapsed 27834625m 59s\n",
      "train Loss: 3.4606 Acc: 0.3053\n",
      "Time elapsed 27834626m 4s\n",
      "valid Loss: 3.4541 Acc: 0.2958\n",
      "Optimizer learning rate : 0.0100000\n",
      "\n",
      "Epoch 1/19\n",
      "----------\n",
      "Time elapsed 27834626m 50s\n",
      "train Loss: 2.8606 Acc: 0.3973\n",
      "Time elapsed 27834626m 55s\n",
      "valid Loss: 3.4585 Acc: 0.3068\n",
      "Optimizer learning rate : 0.0100000\n",
      "\n",
      "Epoch 2/19\n",
      "----------\n",
      "Time elapsed 27834627m 42s\n",
      "train Loss: 2.7260 Acc: 0.4303\n",
      "Time elapsed 27834627m 46s\n",
      "valid Loss: 3.8493 Acc: 0.2922\n",
      "Optimizer learning rate : 0.0100000\n",
      "\n",
      "Epoch 3/19\n",
      "----------\n",
      "Time elapsed 27834628m 33s\n",
      "train Loss: 2.9042 Acc: 0.4225\n",
      "Time elapsed 27834628m 38s\n",
      "valid Loss: 3.9465 Acc: 0.2873\n",
      "Optimizer learning rate : 0.0100000\n",
      "\n",
      "Epoch 4/19\n",
      "----------\n",
      "Time elapsed 27834629m 24s\n",
      "train Loss: 2.8083 Acc: 0.4449\n",
      "Time elapsed 27834629m 29s\n",
      "valid Loss: 3.9938 Acc: 0.2848\n",
      "Optimizer learning rate : 0.0100000\n",
      "\n",
      "Epoch 5/19\n",
      "----------\n",
      "Time elapsed 27834630m 15s\n",
      "train Loss: 2.8393 Acc: 0.4463\n",
      "Time elapsed 27834630m 20s\n",
      "valid Loss: 4.0922 Acc: 0.3056\n",
      "Optimizer learning rate : 0.0100000\n",
      "\n",
      "Epoch 6/19\n",
      "----------\n",
      "Time elapsed 27834631m 7s\n",
      "train Loss: 2.8920 Acc: 0.4420\n",
      "Time elapsed 27834631m 11s\n",
      "valid Loss: 4.3016 Acc: 0.2983\n",
      "Optimizer learning rate : 0.0100000\n",
      "\n",
      "Epoch 7/19\n",
      "----------\n",
      "Time elapsed 27834631m 58s\n",
      "train Loss: 2.7721 Acc: 0.4661\n",
      "Time elapsed 27834632m 3s\n",
      "valid Loss: 4.0657 Acc: 0.3081\n",
      "Optimizer learning rate : 0.0100000\n",
      "\n",
      "Epoch 8/19\n",
      "----------\n",
      "Time elapsed 27834632m 49s\n",
      "train Loss: 2.7400 Acc: 0.4780\n",
      "Time elapsed 27834632m 54s\n",
      "valid Loss: 4.3522 Acc: 0.3252\n",
      "Optimizer learning rate : 0.0100000\n",
      "\n",
      "Epoch 9/19\n",
      "----------\n",
      "Time elapsed 27834633m 42s\n",
      "train Loss: 2.7214 Acc: 0.4797\n",
      "Time elapsed 27834633m 47s\n",
      "valid Loss: 4.1896 Acc: 0.3203\n",
      "Optimizer learning rate : 0.0100000\n",
      "\n",
      "Epoch 10/19\n",
      "----------\n",
      "Time elapsed 27834634m 35s\n",
      "train Loss: 2.6600 Acc: 0.4763\n",
      "Time elapsed 27834634m 39s\n",
      "valid Loss: 4.3521 Acc: 0.3166\n",
      "Optimizer learning rate : 0.0080000\n",
      "\n",
      "Epoch 11/19\n",
      "----------\n",
      "Time elapsed 27834635m 27s\n",
      "train Loss: 2.5351 Acc: 0.4979\n",
      "Time elapsed 27834635m 32s\n",
      "valid Loss: 4.0557 Acc: 0.3362\n",
      "Optimizer learning rate : 0.0080000\n",
      "\n",
      "Epoch 12/19\n",
      "----------\n",
      "Time elapsed 27834636m 19s\n",
      "train Loss: 2.5198 Acc: 0.5003\n",
      "Time elapsed 27834636m 24s\n",
      "valid Loss: 4.0591 Acc: 0.3472\n",
      "Optimizer learning rate : 0.0080000\n",
      "\n",
      "Epoch 13/19\n",
      "----------\n",
      "Time elapsed 27834637m 12s\n",
      "train Loss: 2.4683 Acc: 0.5064\n",
      "Time elapsed 27834637m 17s\n",
      "valid Loss: 4.0408 Acc: 0.3447\n",
      "Optimizer learning rate : 0.0080000\n",
      "\n",
      "Epoch 14/19\n",
      "----------\n",
      "Time elapsed 27834638m 5s\n",
      "train Loss: 2.5170 Acc: 0.4960\n",
      "Time elapsed 27834638m 9s\n",
      "valid Loss: 4.0338 Acc: 0.3570\n",
      "Optimizer learning rate : 0.0080000\n",
      "\n",
      "Epoch 15/19\n",
      "----------\n",
      "Time elapsed 27834638m 56s\n",
      "train Loss: 2.4841 Acc: 0.5035\n",
      "Time elapsed 27834639m 1s\n",
      "valid Loss: 4.0046 Acc: 0.3423\n",
      "Optimizer learning rate : 0.0080000\n",
      "\n",
      "Epoch 16/19\n",
      "----------\n",
      "Time elapsed 27834639m 48s\n",
      "train Loss: 2.5503 Acc: 0.4986\n",
      "Time elapsed 27834639m 52s\n",
      "valid Loss: 4.1428 Acc: 0.3337\n",
      "Optimizer learning rate : 0.0080000\n",
      "\n",
      "Epoch 17/19\n",
      "----------\n",
      "Time elapsed 27834640m 39s\n",
      "train Loss: 2.4409 Acc: 0.5150\n",
      "Time elapsed 27834640m 44s\n",
      "valid Loss: 4.2175 Acc: 0.3289\n",
      "Optimizer learning rate : 0.0080000\n",
      "\n",
      "Epoch 18/19\n",
      "----------\n",
      "Time elapsed 27834641m 30s\n",
      "train Loss: 2.6067 Acc: 0.4919\n",
      "Time elapsed 27834641m 35s\n",
      "valid Loss: 4.1181 Acc: 0.3399\n",
      "Optimizer learning rate : 0.0080000\n",
      "\n",
      "Epoch 19/19\n",
      "----------\n",
      "Time elapsed 27834642m 22s\n",
      "train Loss: 2.5287 Acc: 0.5023\n",
      "Time elapsed 27834642m 27s\n",
      "valid Loss: 4.2226 Acc: 0.3521\n",
      "Optimizer learning rate : 0.0080000\n",
      "\n",
      "Training complete in 17m 16s\n",
      "Best val Acc: 0.356968\n"
     ]
    }
   ],
   "source": [
    "# 先只训练输出层\n",
    "model_ft, val_acc_history, train_acc_history, valid_losses, train_losses, LRs  = train_model(model_ft, dataloaders, criterion, optimizer_ft, num_epochs=20)"
   ]
  },
  {
   "cell_type": "code",
   "execution_count": 32,
   "id": "b02094ba",
   "metadata": {},
   "outputs": [],
   "source": [
    "# 再训练所有层\n",
    "for param in model_ft.parameters():\n",
    "    param.requires_grad = True\n",
    "    \n",
    "# 再继续训练所有参数 学习率可以小一些\n",
    "optimizer = optim.Adam(model_ft.parameters(), lr=1e-3)\n",
    "scheduler = optim.lr_scheduler.StepLR(optimizer_ft, step_size=7, gamma=0.1)\n",
    "\n",
    "# 损失函数\n",
    "criterion = nn.CrossEntropyLoss()"
   ]
  },
  {
   "cell_type": "code",
   "execution_count": 35,
   "id": "de926960",
   "metadata": {},
   "outputs": [
    {
     "data": {
      "text/plain": [
       "<All keys matched successfully>"
      ]
     },
     "execution_count": 35,
     "metadata": {},
     "output_type": "execute_result"
    }
   ],
   "source": [
    "# 加载之前训练好的权重参数\n",
    "checkpoint = torch.load(filename)\n",
    "best_acc = checkpoint['best_acc']\n",
    "model_ft.load_state_dict(checkpoint['state_dict'])"
   ]
  },
  {
   "cell_type": "code",
   "execution_count": 36,
   "id": "5602f7a7",
   "metadata": {},
   "outputs": [
    {
     "name": "stdout",
     "output_type": "stream",
     "text": [
      "Epoch 0/19\n",
      "----------\n",
      "Time elapsed 27834647m 22s\n",
      "train Loss: 2.4075 Acc: 0.5076\n",
      "Time elapsed 27834647m 27s\n",
      "valid Loss: 3.9972 Acc: 0.3692\n",
      "Optimizer learning rate : 0.0010000\n",
      "\n",
      "Epoch 1/19\n",
      "----------\n",
      "Time elapsed 27834648m 15s\n",
      "train Loss: 2.4333 Acc: 0.5114\n",
      "Time elapsed 27834648m 20s\n",
      "valid Loss: 4.1021 Acc: 0.3545\n",
      "Optimizer learning rate : 0.0010000\n",
      "\n",
      "Epoch 2/19\n",
      "----------\n",
      "Time elapsed 27834649m 7s\n",
      "train Loss: 2.3861 Acc: 0.5218\n",
      "Time elapsed 27834649m 12s\n",
      "valid Loss: 3.9855 Acc: 0.3570\n",
      "Optimizer learning rate : 0.0010000\n",
      "\n",
      "Epoch 3/19\n",
      "----------\n",
      "Time elapsed 27834649m 60s\n",
      "train Loss: 2.3006 Acc: 0.5276\n",
      "Time elapsed 27834650m 5s\n",
      "valid Loss: 4.0105 Acc: 0.3606\n",
      "Optimizer learning rate : 0.0010000\n",
      "\n",
      "Epoch 4/19\n",
      "----------\n",
      "Time elapsed 27834650m 52s\n",
      "train Loss: 2.4187 Acc: 0.5159\n",
      "Time elapsed 27834650m 57s\n",
      "valid Loss: 4.0130 Acc: 0.3680\n",
      "Optimizer learning rate : 0.0010000\n",
      "\n",
      "Epoch 5/19\n",
      "----------\n",
      "Time elapsed 27834651m 43s\n",
      "train Loss: 2.3754 Acc: 0.5201\n",
      "Time elapsed 27834651m 48s\n",
      "valid Loss: 4.0476 Acc: 0.3557\n",
      "Optimizer learning rate : 0.0010000\n",
      "\n",
      "Epoch 6/19\n",
      "----------\n",
      "Time elapsed 27834652m 35s\n",
      "train Loss: 2.3232 Acc: 0.5189\n",
      "Time elapsed 27834652m 39s\n",
      "valid Loss: 4.0880 Acc: 0.3594\n",
      "Optimizer learning rate : 0.0010000\n",
      "\n",
      "Epoch 7/19\n",
      "----------\n",
      "Time elapsed 27834653m 26s\n",
      "train Loss: 2.4116 Acc: 0.5116\n",
      "Time elapsed 27834653m 31s\n",
      "valid Loss: 4.0032 Acc: 0.3582\n",
      "Optimizer learning rate : 0.0010000\n",
      "\n",
      "Epoch 8/19\n",
      "----------\n",
      "Time elapsed 27834654m 17s\n",
      "train Loss: 2.3648 Acc: 0.5172\n",
      "Time elapsed 27834654m 22s\n",
      "valid Loss: 4.0206 Acc: 0.3570\n",
      "Optimizer learning rate : 0.0010000\n",
      "\n",
      "Epoch 9/19\n",
      "----------\n",
      "Time elapsed 27834655m 8s\n",
      "train Loss: 2.4102 Acc: 0.5172\n",
      "Time elapsed 27834655m 13s\n",
      "valid Loss: 4.0586 Acc: 0.3557\n",
      "Optimizer learning rate : 0.0010000\n",
      "\n",
      "Epoch 10/19\n",
      "----------\n",
      "Time elapsed 27834655m 60s\n",
      "train Loss: 2.4123 Acc: 0.5073\n",
      "Time elapsed 27834656m 5s\n",
      "valid Loss: 4.0742 Acc: 0.3619\n",
      "Optimizer learning rate : 0.0010000\n",
      "\n",
      "Epoch 11/19\n",
      "----------\n",
      "Time elapsed 27834656m 51s\n",
      "train Loss: 2.3879 Acc: 0.5168\n",
      "Time elapsed 27834656m 56s\n",
      "valid Loss: 4.0767 Acc: 0.3606\n",
      "Optimizer learning rate : 0.0010000\n",
      "\n",
      "Epoch 12/19\n",
      "----------\n",
      "Time elapsed 27834657m 43s\n",
      "train Loss: 2.3830 Acc: 0.5179\n",
      "Time elapsed 27834657m 47s\n",
      "valid Loss: 4.0235 Acc: 0.3619\n",
      "Optimizer learning rate : 0.0010000\n",
      "\n",
      "Epoch 13/19\n",
      "----------\n",
      "Time elapsed 27834658m 34s\n",
      "train Loss: 2.3696 Acc: 0.5223\n",
      "Time elapsed 27834658m 39s\n",
      "valid Loss: 4.0471 Acc: 0.3582\n",
      "Optimizer learning rate : 0.0010000\n",
      "\n",
      "Epoch 14/19\n",
      "----------\n",
      "Time elapsed 27834659m 25s\n",
      "train Loss: 2.3748 Acc: 0.5217\n",
      "Time elapsed 27834659m 30s\n",
      "valid Loss: 4.0689 Acc: 0.3533\n",
      "Optimizer learning rate : 0.0010000\n",
      "\n",
      "Epoch 15/19\n",
      "----------\n",
      "Time elapsed 27834660m 17s\n",
      "train Loss: 2.3666 Acc: 0.5127\n",
      "Time elapsed 27834660m 22s\n",
      "valid Loss: 4.0514 Acc: 0.3680\n",
      "Optimizer learning rate : 0.0010000\n",
      "\n",
      "Epoch 16/19\n",
      "----------\n",
      "Time elapsed 27834661m 8s\n",
      "train Loss: 2.3547 Acc: 0.5221\n",
      "Time elapsed 27834661m 13s\n",
      "valid Loss: 4.0317 Acc: 0.3582\n",
      "Optimizer learning rate : 0.0010000\n",
      "\n",
      "Epoch 17/19\n",
      "----------\n",
      "Time elapsed 27834661m 59s\n",
      "train Loss: 2.3651 Acc: 0.5206\n",
      "Time elapsed 27834662m 4s\n",
      "valid Loss: 4.0531 Acc: 0.3594\n",
      "Optimizer learning rate : 0.0010000\n",
      "\n",
      "Epoch 18/19\n",
      "----------\n",
      "Time elapsed 27834662m 51s\n",
      "train Loss: 2.3202 Acc: 0.5267\n",
      "Time elapsed 27834662m 56s\n",
      "valid Loss: 4.0873 Acc: 0.3545\n",
      "Optimizer learning rate : 0.0010000\n",
      "\n",
      "Epoch 19/19\n",
      "----------\n",
      "Time elapsed 27834663m 42s\n",
      "train Loss: 2.3901 Acc: 0.5237\n",
      "Time elapsed 27834663m 47s\n",
      "valid Loss: 4.0659 Acc: 0.3619\n",
      "Optimizer learning rate : 0.0010000\n",
      "\n",
      "Training complete in 17m 13s\n",
      "Best val Acc: 0.369193\n"
     ]
    }
   ],
   "source": [
    "model_ft, val_acc_history, train_acc_history, valid_losses, train_losses, LRs  = train_model(model_ft, dataloaders, criterion, optimizer, num_epochs=20)\n"
   ]
  },
  {
   "cell_type": "markdown",
   "id": "315c1cee",
   "metadata": {},
   "source": [
    "#### 加载训练好的模型"
   ]
  },
  {
   "cell_type": "code",
   "execution_count": 37,
   "id": "d0f0a503",
   "metadata": {},
   "outputs": [
    {
     "data": {
      "text/plain": [
       "<All keys matched successfully>"
      ]
     },
     "execution_count": 37,
     "metadata": {},
     "output_type": "execute_result"
    }
   ],
   "source": [
    "model_ft, input_size = initialize_model(model_name, 102, feature_extract, use_pretrained=True)\n",
    "\n",
    "# GPU模式\n",
    "model_ft = model_ft.to(device)\n",
    "\n",
    "# 保存文件的名字\n",
    "filename='best.pt'\n",
    "\n",
    "# 加载模型\n",
    "checkpoint = torch.load(filename)\n",
    "best_acc = checkpoint['best_acc']\n",
    "model_ft.load_state_dict(checkpoint['state_dict'])"
   ]
  },
  {
   "cell_type": "markdown",
   "id": "51a782cc",
   "metadata": {},
   "source": [
    "#### 测试\n",
    "- 测试数据处理方法需要跟训练时一直才可以 \n",
    "- crop操作的目的是保证输入的大小是一致的\n",
    "- 标准化操作也是必须的, 用跟训练数据相同的mean和std,但是需要注意一点训练数据是在0-1上进行标准化, 所以测试数据也需要先归一化\n",
    "- 最后一点, PyTorch中颜色通道是第一个维度, 跟很多工具包都不一样, 需要转换"
   ]
  },
  {
   "cell_type": "code",
   "execution_count": 38,
   "id": "c96c35fd",
   "metadata": {},
   "outputs": [],
   "source": [
    "dataiter = iter(dataloaders['valid'])\n",
    "images, labels = dataiter.next()\n",
    "\n",
    "model_ft.eval()\n",
    "\n",
    "if train_on_gpu:\n",
    "    output = model_ft(images.cuda())\n",
    "else:\n",
    "    output = model_ft(images)"
   ]
  },
  {
   "cell_type": "code",
   "execution_count": 39,
   "id": "d8e6646b",
   "metadata": {},
   "outputs": [
    {
     "data": {
      "text/plain": [
       "torch.Size([128, 102])"
      ]
     },
     "execution_count": 39,
     "metadata": {},
     "output_type": "execute_result"
    }
   ],
   "source": [
    "output.shape"
   ]
  },
  {
   "cell_type": "code",
   "execution_count": 40,
   "id": "71739af7",
   "metadata": {},
   "outputs": [],
   "source": [
    "_, preds_tensor = torch.max(output, 1)\n",
    "\n",
    "preds = np.squeeze(preds_tensor.numpy()) if not train_on_gpu else np.squeeze(preds_tensor.cpu().numpy())"
   ]
  },
  {
   "cell_type": "markdown",
   "id": "886388c3",
   "metadata": {},
   "source": [
    "#### 展示结果"
   ]
  },
  {
   "cell_type": "code",
   "execution_count": 41,
   "id": "c0cf8075",
   "metadata": {},
   "outputs": [],
   "source": [
    "def im_convert(tensor):\n",
    "    \"\"\" 展示数据\"\"\"\n",
    "    \n",
    "    image = tensor.to(\"cpu\").clone().detach()\n",
    "    image = image.numpy().squeeze()\n",
    "    image = image.transpose(1,2,0)\n",
    "    image = image * np.array((0.229, 0.224, 0.225)) + np.array((0.485, 0.456, 0.406))\n",
    "    image = image.clip(0, 1)\n",
    "\n",
    "    return image"
   ]
  },
  {
   "cell_type": "code",
   "execution_count": 42,
   "id": "ec6e4493",
   "metadata": {},
   "outputs": [
    {
     "data": {
      "image/png": "[encoded data removed]",
      "text/plain": [
       "<Figure size 1440x1440 with 8 Axes>"
      ]
     },
     "metadata": {},
     "output_type": "display_data"
    }
   ],
   "source": [
    "fig=plt.figure(figsize=(20, 20))\n",
    "columns =4\n",
    "rows = 2\n",
    "\n",
    "for idx in range (columns*rows):\n",
    "    ax = fig.add_subplot(rows, columns, idx+1, xticks=[], yticks=[])\n",
    "    plt.imshow(im_convert(images[idx]))\n",
    "    ax.set_title(\"{} ({})\".format(cat_to_name[str(preds[idx])], cat_to_name[str(labels[idx].item())]),\n",
    "                 color=(\"green\" if cat_to_name[str(preds[idx])]==cat_to_name[str(labels[idx].item())] else \"red\"))\n",
    "plt.show()"
   ]
  }
 ],
 "metadata": {
  "kernelspec": {
   "display_name": "Python 3 (ipykernel)",
   "language": "python",
   "name": "python3"
  },
  "language_info": {
   "codemirror_mode": {
    "name": "ipython",
    "version": 3
   },
   "file_extension": ".py",
   "mimetype": "text/x-python",
   "name": "python",
   "nbconvert_exporter": "python",
   "pygments_lexer": "ipython3",
   "version": "3.8.12"
  }
 },
 "nbformat": 4,
 "nbformat_minor": 5
}
